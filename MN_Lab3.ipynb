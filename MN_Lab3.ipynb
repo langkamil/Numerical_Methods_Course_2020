{
 "cells": [
  {
   "cell_type": "markdown",
   "metadata": {
    "id": "NdG7APy_b2YT"
   },
   "source": [
    "# Metody Numeryczne\n",
    "# Zadanie laboratorium komputerowe 3.\n",
    "# Rozwiązywanie układów równań liniowych\n",
    "\n",
    "* Kamil Łangowski \n",
    "* Szymon Pawłowski \n",
    "* Przemysław Koden \n",
    "\n",
    "\n"
   ]
  },
  {
   "cell_type": "markdown",
   "metadata": {
    "id": "oojCqjUP6wby"
   },
   "source": [
    "# Biblioteki"
   ]
  },
  {
   "cell_type": "code",
   "execution_count": 1,
   "metadata": {
    "id": "XRIjf6V8D_vF"
   },
   "outputs": [],
   "source": [
    "import numpy as np\n",
    "import math "
   ]
  },
  {
   "cell_type": "markdown",
   "metadata": {
    "id": "NMRkHLFu6ztn"
   },
   "source": [
    "# Kod eliminacji Gaussa"
   ]
  },
  {
   "cell_type": "code",
   "execution_count": 2,
   "metadata": {
    "id": "Y8_X1tE0Mws7"
   },
   "outputs": [],
   "source": [
    "def gauss(A, Y):\n",
    "  n = len(A)\n",
    "  z = 0\n",
    "  U = np.copy(A)\n",
    "  for k in range(n-1):\n",
    "    for i in range(k + 1, n):\n",
    "      z = U[i][k]/U[k][k]\n",
    "      U[i][k] = 0\n",
    "      for j in range(k + 1, n):\n",
    "        if (i == j) and ((U[i][j] - z*U[k][j]) == 0 or (U[i][j] - z*U[k][j]) == 0):\n",
    "          return print(\"ERROR: Natrafiono na 0 na przekątnej\")\n",
    "        else:\n",
    "          U[i][j] = U[i][j] - z*U[k][j]\n",
    "  \n",
    "  U_o = np.linalg.inv(U)\n",
    "  L = np.dot(A, U_o)\n",
    "  L_o = np.linalg.inv(L)\n",
    "\n",
    "  print(\"Macierz A:\", A, sep=\"\\n\")\n",
    "  print(\"Macierz L:\", L, sep=\"\\n\")\n",
    "  print(\"Macierz U:\", U, sep=\"\\n\")\n",
    "\n",
    "  Z = np.empty(shape=(n,n)) \n",
    "  Z = np.dot(L_o, Y)\n",
    "\n",
    "  X = np.empty(shape=(n,1))\n",
    "  X = np.dot(U_o, Z)\n",
    "  print(\"Rozwiazanie ukladu X:\", X, sep=\"\\n\")\n"
   ]
  },
  {
   "cell_type": "markdown",
   "metadata": {
    "id": "WY7iFXg2-Rwf"
   },
   "source": [
    "# Przykłady poprawnego działania bez wyboru wierszy głównych"
   ]
  },
  {
   "cell_type": "code",
   "execution_count": 3,
   "metadata": {
    "colab": {
     "base_uri": "https://localhost:8080/"
    },
    "id": "j3_TZEsZsxWm",
    "outputId": "d8339c94-6437-43e5-e75a-6ff711703ddf"
   },
   "outputs": [
    {
     "name": "stdout",
     "output_type": "stream",
     "text": [
      "Macierz A:\n",
      "[[  6  -2   2   4]\n",
      " [ 12  -8   6  10]\n",
      " [  3 -13   9   3]\n",
      " [ -6   4   1 -18]]\n",
      "Macierz L:\n",
      "[[ 1.00000000e+00  0.00000000e+00  0.00000000e+00  2.22044605e-16]\n",
      " [ 2.00000000e+00  1.00000000e+00  0.00000000e+00  4.44089210e-16]\n",
      " [ 5.00000000e-01  3.00000000e+00  1.00000000e+00  0.00000000e+00]\n",
      " [-1.00000000e+00 -5.00000000e-01  2.00000000e+00  1.00000000e+00]]\n",
      "Macierz U:\n",
      "[[ 6 -2  2  4]\n",
      " [ 0 -4  2  2]\n",
      " [ 0  0  2 -5]\n",
      " [ 0  0  0 -3]]\n",
      "Rozwiazanie ukladu X:\n",
      "[[ 1.]\n",
      " [-3.]\n",
      " [-2.]\n",
      " [ 1.]]\n"
     ]
    }
   ],
   "source": [
    "A = np.array([[6, -2, 2, 4], [12, -8, 6, 10], [3, -13, 9, 3],[-6, 4, 1, -18]])\n",
    "Y = np.array([[12],[34],[27],[-38]])\n",
    "gauss(A, Y)"
   ]
  },
  {
   "cell_type": "code",
   "execution_count": 4,
   "metadata": {
    "colab": {
     "base_uri": "https://localhost:8080/"
    },
    "id": "rqq2jK4_CS5B",
    "outputId": "4e0d30db-ca1d-4e28-832b-259d04fb7daf"
   },
   "outputs": [
    {
     "name": "stdout",
     "output_type": "stream",
     "text": [
      "Macierz A:\n",
      "[[ 6.      2.      2.    ]\n",
      " [ 2.      0.6667  0.3333]\n",
      " [ 1.      2.     -1.    ]]\n",
      "Macierz L:\n",
      "[[ 1.00000000e+00  0.00000000e+00  1.02741708e-16]\n",
      " [ 3.33333333e-01  1.00000000e+00 -8.26978481e-18]\n",
      " [ 1.66666667e-01  5.00000000e+04  1.00000000e+00]]\n",
      "Macierz U:\n",
      "[[ 6.00000000e+00  2.00000000e+00  2.00000000e+00]\n",
      " [ 0.00000000e+00  3.33333333e-05 -3.33366667e-01]\n",
      " [ 0.00000000e+00  0.00000000e+00  1.66670000e+04]]\n",
      "Rozwiazanie ukladu X:\n",
      "[[ 2.599928]\n",
      " [-3.799904]\n",
      " [-4.99988 ]]\n"
     ]
    }
   ],
   "source": [
    "A = np.array([[6, 2, 2], [2, 0.6667, 0.3333], [1, 2, -1]])\n",
    "Y = np.array([[-2],[1],[0]])\n",
    "gauss(A, Y)"
   ]
  },
  {
   "cell_type": "markdown",
   "metadata": {
    "id": "EERY_XmX-CMp"
   },
   "source": [
    "# Problem natrafienia na 0 na przekątnej"
   ]
  },
  {
   "cell_type": "code",
   "execution_count": 5,
   "metadata": {
    "colab": {
     "base_uri": "https://localhost:8080/"
    },
    "id": "UUGjD2wNvAHW",
    "outputId": "e0873ab2-b558-481d-ad3b-eaa4aee9eb2b"
   },
   "outputs": [
    {
     "name": "stdout",
     "output_type": "stream",
     "text": [
      "ERROR: Natrafiono na 0 na przekątnej\n"
     ]
    }
   ],
   "source": [
    "A = np.array([[6, -2, 2, 4], [24, -8, 6, 10], [3, -13, 9, 3],[-6, 4, 1, -18]])\n",
    "Y = np.array([[12],[34],[27],[-38]])\n",
    "gauss(A, Y)"
   ]
  },
  {
   "cell_type": "code",
   "execution_count": 6,
   "metadata": {
    "colab": {
     "base_uri": "https://localhost:8080/"
    },
    "id": "AEzlDDYa3ev5",
    "outputId": "206712f5-1bbb-42af-c859-4771d31c1a91"
   },
   "outputs": [
    {
     "name": "stdout",
     "output_type": "stream",
     "text": [
      "ERROR: Natrafiono na 0 na przekątnej\n"
     ]
    }
   ],
   "source": [
    "A = np.array([[12, 10, -7], [6, 5, 3], [24, -1, 5],[24, -1, 5]])\n",
    "Y = np.array([[15],[14],[28]])\n",
    "gauss(A, Y)"
   ]
  },
  {
   "cell_type": "markdown",
   "metadata": {
    "id": "HQG6T2HL-LM5"
   },
   "source": [
    "# Problem dokonania zaokrągleń zmieniających wynik"
   ]
  },
  {
   "cell_type": "code",
   "execution_count": 7,
   "metadata": {
    "colab": {
     "base_uri": "https://localhost:8080/"
    },
    "id": "G4ngb7638g56",
    "outputId": "c96cbd9b-75a5-4c2b-d0b3-f7ce2638cc4c"
   },
   "outputs": [
    {
     "name": "stdout",
     "output_type": "stream",
     "text": [
      "Macierz A:\n",
      "[[               1 1000000000000000]\n",
      " [               1                1]]\n",
      "Macierz L:\n",
      "[[1. 0.]\n",
      " [1. 1.]]\n",
      "Macierz U:\n",
      "[[               1 1000000000000000]\n",
      " [               0 -999999999999999]]\n",
      "Rozwiazanie ukladu X:\n",
      "[[0.875]\n",
      " [1.   ]]\n"
     ]
    }
   ],
   "source": [
    "A = np.array([[1,10**15],[1, 1]])\n",
    "Y = np.array([[10**15], [2]])\n",
    "gauss(A,Y) #poprawny wynik w przyblizeniu to (x,y)=(1, 1)"
   ]
  },
  {
   "cell_type": "code",
   "execution_count": 8,
   "metadata": {
    "colab": {
     "base_uri": "https://localhost:8080/"
    },
    "id": "5hLecwoO-QVo",
    "outputId": "43e5a087-6364-4fe3-fd3e-050ca3875ba7"
   },
   "outputs": [
    {
     "name": "stdout",
     "output_type": "stream",
     "text": [
      "Macierz A:\n",
      "[[1.e-23 1.e+00]\n",
      " [1.e+00 1.e+00]]\n",
      "Macierz L:\n",
      "[[1.e+00 0.e+00]\n",
      " [1.e+23 1.e+00]]\n",
      "Macierz U:\n",
      "[[ 1.e-23  1.e+00]\n",
      " [ 0.e+00 -1.e+23]]\n",
      "Rozwiazanie ukladu X:\n",
      "[[0.]\n",
      " [1.]]\n"
     ]
    }
   ],
   "source": [
    "A = np.array([[10**(-23), 1], [1, 1]])\n",
    "Y = np.array([[1],[2]])\n",
    "gauss(A, Y) #poprawny wynik w przyblizeniu to (x,y)=(1,1)"
   ]
  },
  {
   "cell_type": "markdown",
   "metadata": {
    "id": "Qf7L104fKp3b"
   },
   "source": [
    "# Skalowany wybór wierszych głównych"
   ]
  },
  {
   "cell_type": "code",
   "execution_count": 9,
   "metadata": {
    "colab": {
     "base_uri": "https://localhost:8080/"
    },
    "id": "FGN7AHmXIeyH",
    "outputId": "e6ff77f8-22d2-4f71-b4a6-099a85ecb93d"
   },
   "outputs": [
    {
     "name": "stdout",
     "output_type": "stream",
     "text": [
      "[0, 1.4999250037498126, -0.0]\n"
     ]
    }
   ],
   "source": [
    "A = np.array([[6, 2, 2], [2, 0.6667, 0.3333], [1, 2, -1]])\n",
    "Y = [-2,1,0]\n",
    "\n",
    "n = len(A)\n",
    "\n",
    "s = []\n",
    "p = []\n",
    "il = []\n",
    "temp = 0\n",
    "specjal_j = 0\n",
    "x = [0]*n\n",
    "\n",
    "for i in range(0,n):\n",
    "\n",
    "  p.append(i)\n",
    "  s.append(i)\n",
    "\n",
    "  for j in range(n-1):\n",
    "    if (abs(A[i][j+1]) > abs(A[i][j])):\n",
    "      s[i] = abs(A[i][j+1])\n",
    "    else:\n",
    "      s[i] = abs(A[i][j])\n",
    "\n",
    "\n",
    "for k in range(0,n-1): \n",
    "    for i in range(k, n-1):\n",
    "      temp1 = abs(A[p[k]][k])/s[p[k]]\n",
    "      j = k\n",
    "      if (abs(A[p[i]][k])/s[p[i]] > temp1):\n",
    "        j = i\n",
    "        #znalezienie j i przypisanie zmiennej pomocniczej jezeli warunek jest spełniony \n",
    "        temp1  = abs(A[p[i]][k])/s[p[i]]\n",
    "\n",
    "    temp = p[j]\n",
    "    p[j] = p[k] \n",
    "    p[k] = temp\n",
    "    \n",
    "    for i in range(k+1,n): \n",
    "      z = A[p[i]][k]/A[p[k]][k]\n",
    "      A[p[i]][k] = 0\n",
    "    for j in range(k+1, n):\n",
    "      A[p[i]][j] = A[p[i]][j] - z*A[p[k]][j]\n",
    "    \n",
    "\n",
    "for k in range(0,n-1):\n",
    "  for i in range(k+1,n):\n",
    "    Y[p[i]] = Y[p[i]] - A[p[i]][k]*Y[p[k]]\n",
    "for i in range(n-1, 0, -1):\n",
    "  suma = 0\n",
    "  for j in range(i,n-1):\n",
    "    suma = suma + A[p[i]][j]*x[j]\n",
    "  x[i] = ((Y[p[i]] - suma)/A[p[i]][i])\n",
    "\n",
    "\n",
    "print(x)"
   ]
  }
 ],
 "metadata": {
  "colab": {
   "name": "MN_lab3",
   "provenance": []
  },
  "kernelspec": {
   "display_name": "Python 3",
   "language": "python",
   "name": "python3"
  },
  "language_info": {
   "codemirror_mode": {
    "name": "ipython",
    "version": 3
   },
   "file_extension": ".py",
   "mimetype": "text/x-python",
   "name": "python",
   "nbconvert_exporter": "python",
   "pygments_lexer": "ipython3",
   "version": "3.8.8"
  }
 },
 "nbformat": 4,
 "nbformat_minor": 1
}
