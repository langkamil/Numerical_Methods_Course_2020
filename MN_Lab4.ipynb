{
 "cells": [
  {
   "cell_type": "markdown",
   "metadata": {
    "id": "4HpjCcVsVyOS"
   },
   "source": [
    "* Kamil Łangowski \n",
    "* Szymon Pawłowski  \n",
    "* Przemysław Koden "
   ]
  },
  {
   "cell_type": "code",
   "execution_count": 1,
   "metadata": {
    "id": "XRIjf6V8D_vF"
   },
   "outputs": [],
   "source": [
    "import numpy as np\n",
    "import math \n",
    "from matplotlib import pyplot as plt\n",
    "import seaborn as sns\n",
    "%matplotlib inline\n",
    "import warnings\n",
    "warnings.filterwarnings('ignore')"
   ]
  },
  {
   "cell_type": "markdown",
   "metadata": {
    "id": "61yq8e-kNL8v"
   },
   "source": [
    "#WIZUALIZACJA"
   ]
  },
  {
   "cell_type": "code",
   "execution_count": 2,
   "metadata": {
    "id": "2kOB6N1-NLh9"
   },
   "outputs": [],
   "source": [
    "def vis(fun, sklejana, N, m, p):\n",
    "  name = fun.__name__\n",
    "  number = str(N)\n",
    "\n",
    "  points = list(np.arange(0,11,0.1))\n",
    "  values = [0]*len(points)\n",
    "  for i in range(len(points)):\n",
    "    values[i] = sklejana(x = points[i], n = N, func = fun, times = m)\n",
    "    \n",
    "  values_p = [0]*len(p)\n",
    "  for i in range(len(p)):\n",
    "    values_p[i] = sklejana(x = p[i], n = N, func = fun, times = m)\n",
    "\n",
    "  fig, ax = plt.subplots()\n",
    "  fig.set_size_inches(11.7, 8.27)\n",
    "  \n",
    "  k = sns.lineplot(x=points, y=values, color=\"orangered\")\n",
    "  sns.scatterplot(x=p, y=values_p,s=30, color=\"orangered\")\n",
    "  plt.axhline(y=0, color='black', linestyle='-')\n",
    "  k.yaxis.grid()\n",
    "  \n",
    "  plt.xticks(fontsize=15, color=\"black\")\n",
    "  plt.yticks(fontsize=15)\n",
    "  plt.title(\"Funkcja sklejana dla y=\"+name+\" dla N=\"+number, fontsize=15,  fontweight='bold');"
   ]
  },
  {
   "cell_type": "markdown",
   "metadata": {
    "id": "BU40vUTUNRUW"
   },
   "source": [
    "#Rozwiązanie układu (2) za pomocą algorytmu dla układu trójprzekątniowego"
   ]
  },
  {
   "cell_type": "code",
   "execution_count": 3,
   "metadata": {
    "colab": {
     "base_uri": "https://localhost:8080/"
    },
    "id": "0jHdtwmGtkY1",
    "outputId": "317c4912-56ca-4865-bf29-543afcc6d321"
   },
   "outputs": [
    {
     "name": "stdout",
     "output_type": "stream",
     "text": [
      "[0, -0.8775698862733329, 0.5297708553928008, 1.054107358874004, 0.7149669238520031, -0.30823347074198837, -1.0468192717222407, -0.8011462433342551, 0.0925987099901206, 1.2333837638289016, 0]\n"
     ]
    }
   ],
   "source": [
    " n = 10\n",
    "\n",
    " t=[0] * (n+1)\n",
    " y=[0] * (n+1)\n",
    " z=[0] * (n+1)\n",
    "\n",
    " h=[0] * n\n",
    " b=[0] * n\n",
    "\n",
    " u=[0] * (n-1)\n",
    " v=[0] * (n-1)\n",
    "\n",
    "for i in range(0,n+1):\n",
    "  t[i]=i\n",
    "  y[i]=math.cos(i)\n",
    "for i in range(0,n):\n",
    "  h[i]=t[i+1]-t[i]\n",
    "  b[i]=6*(y[i+1]-y[i])/h[i]\n",
    "\n",
    "\n",
    "u[0]=2*(h[0]+h[1])\n",
    "v[0]=b[1]-b[0]\n",
    "\n",
    "for i in range(1,n-1):\n",
    "  u[i]=2*(h[i]+h[i+1])-h[i]*h[i]/u[i-1]\n",
    "  v[i]=b[i+1]-b[i]-h[i]*v[i-1]/u[i-1]\n",
    " \n",
    "\n",
    "z[n]=0\n",
    "\n",
    "for i in range(n-1, 0, -1):\n",
    "  z[i]=(v[i-1]-h[i]*z[i+1])/u[i-1]\n",
    "\n",
    "z[0]=0\n",
    "\n",
    "print(z)"
   ]
  },
  {
   "cell_type": "markdown",
   "metadata": {
    "id": "w2035d0tNZ6i"
   },
   "source": [
    "#Program obliczający funkcje sklejane 3 stopnia"
   ]
  },
  {
   "cell_type": "code",
   "execution_count": 4,
   "metadata": {
    "id": "u0Njusk4419M"
   },
   "outputs": [],
   "source": [
    "def s(x,n,func,times):\n",
    "  si = 0\n",
    "\n",
    "  t=[0] * (n+1)\n",
    "  y=[0] * (n+1)\n",
    "  z=[0] * (n+1)\n",
    "  \n",
    "  h=[0] * n\n",
    "  b=[0] * n\n",
    "  \n",
    "  u=[0] * (n-1)\n",
    "  v=[0] * (n-1)\n",
    "  for i in range(0,n+1):\n",
    "    t[i]=times * i\n",
    "    y[i]=func(t[i])\n",
    "  for i in range(0,n):\n",
    "    h[i]=t[i+1]-t[i]\n",
    "    b[i]=6*(y[i+1]-y[i])/h[i]\n",
    "  \n",
    "  u[0]=2*(h[0]+h[1])\n",
    "  v[0]=b[1]-b[0]\n",
    "  \n",
    "  for i in range(1,n-1):\n",
    "    u[i]=2*(h[i]+h[i+1])-h[i]*h[i]/u[i-1]\n",
    "    v[i]=b[i+1]-b[i]-h[i]*v[i-1]/u[i-1]\n",
    "    \n",
    "  z[n]=0\n",
    "  \n",
    "  for i in range(n-1, 0, -1):\n",
    "    z[i]=(v[i-1]-h[i]*z[i+1])/u[i-1]\n",
    "    \n",
    "  z[0]=0\n",
    "\n",
    "  for i in range(n-1,-1,-1):\n",
    "      if (x-t[i] >= 0):\n",
    "        idx = i\n",
    "        break\n",
    "      else: \n",
    "        idx = n-1\n",
    "\n",
    "  si = z[idx] / (6*h[idx]) * (t[idx+1] - x)**3 + z[idx+1]/(6*h[idx]) * (x-t[idx])**3 + (y[idx+1]/h[idx] - z[idx+1]*h[idx]/6)*(x - t[i]) + (y[idx]/h[idx] - z[idx]*h[idx]/6)*(t[i+1] - x)  \n",
    "  return si"
   ]
  },
  {
   "cell_type": "code",
   "execution_count": 5,
   "metadata": {
    "colab": {
     "base_uri": "https://localhost:8080/"
    },
    "id": "m5QPTy4QBJib",
    "outputId": "cb509eb2-a4c5-485a-8e37-2ab72b18b28a"
   },
   "outputs": [
    {
     "data": {
      "text/plain": [
       "3.0499308503626743"
      ]
     },
     "execution_count": 5,
     "metadata": {},
     "output_type": "execute_result"
    }
   ],
   "source": [
    "s(x=9,n=30,func=math.sqrt,times=0.25)"
   ]
  },
  {
   "cell_type": "markdown",
   "metadata": {
    "id": "O-NV5GuMDrS3"
   },
   "source": [
    "# **TEST** kodu dla funkcji sqrt(x)"
   ]
  },
  {
   "cell_type": "code",
   "execution_count": 6,
   "metadata": {
    "colab": {
     "base_uri": "https://localhost:8080/"
    },
    "id": "CXM7qtumS70v",
    "outputId": "6ef192a2-d57c-43f3-9e4b-4dcef58d2813"
   },
   "outputs": [
    {
     "name": "stdout",
     "output_type": "stream",
     "text": [
      "0 0.0\n",
      "1 1.0\n",
      "2 1.4142135623730951\n",
      "3 1.7320508075688772\n",
      "4 2.0\n",
      "5 2.23606797749979\n",
      "6 2.449489742783178\n",
      "7 2.6457513110645907\n",
      "8 2.831677434273999\n",
      "9 3.0499308503626743\n",
      "10 3.364556634228375\n"
     ]
    }
   ],
   "source": [
    "p=[]\n",
    "for i in range(0,11):\n",
    "  p.append(i)\n",
    "  print(i,s(x = i, n = 30, func = math.sqrt, times=0.25))"
   ]
  },
  {
   "cell_type": "markdown",
   "metadata": {
    "id": "W18ezGMbNpn9"
   },
   "source": [
    "Wizualizacja"
   ]
  },
  {
   "cell_type": "code",
   "execution_count": 7,
   "metadata": {
    "colab": {
     "base_uri": "https://localhost:8080/",
     "height": 520
    },
    "id": "b7TWPcXiNqUv",
    "outputId": "82b5dd78-0fdb-4bb7-c398-deadb8d3ca6c"
   },
   "outputs": [
    {
     "data": {
      "image/png": "[encoded data removed]",
      "text/plain": [
       "<Figure size 842.4x595.44 with 1 Axes>"
      ]
     },
     "metadata": {
      "needs_background": "light"
     },
     "output_type": "display_data"
    }
   ],
   "source": [
    "vis(fun=math.sqrt, sklejana=s, N=30, m=0.25, p=p)"
   ]
  },
  {
   "cell_type": "markdown",
   "metadata": {
    "id": "xcKJb_TmEeRn"
   },
   "source": [
    "# **TEST** kodu dla funkcji cos(x)"
   ]
  },
  {
   "cell_type": "code",
   "execution_count": 8,
   "metadata": {
    "colab": {
     "base_uri": "https://localhost:8080/"
    },
    "id": "yxFI5zHWEjyu",
    "outputId": "13269cda-7314-486d-b80e-3d47131127ab"
   },
   "outputs": [
    {
     "name": "stdout",
     "output_type": "stream",
     "text": [
      "0 1.0\n",
      "1 0.5403023058681398\n",
      "2 -0.41614683654714246\n",
      "3 -0.9899924966004454\n",
      "4 -0.6536436208636119\n",
      "5 0.28366218546322625\n",
      "6 0.960170286650366\n",
      "7 0.7539022543433046\n",
      "8 -0.14550003380861354\n",
      "9 -0.9111302618846768\n"
     ]
    }
   ],
   "source": [
    "p=[]\n",
    "for i in range(10):\n",
    "  p.append(i)\n",
    "  print(i,s(x = i, n = 10, func = math.cos, times=1))"
   ]
  },
  {
   "cell_type": "markdown",
   "metadata": {
    "id": "9t_KWY9zG90N"
   },
   "source": [
    "Wizualizacja"
   ]
  },
  {
   "cell_type": "code",
   "execution_count": 9,
   "metadata": {
    "colab": {
     "base_uri": "https://localhost:8080/",
     "height": 520
    },
    "id": "JTJPAahrNld8",
    "outputId": "c75ac082-42f7-4089-926b-f664a4afecea"
   },
   "outputs": [
    {
     "data": {
      "image/png": "[encoded data removed]",
      "text/plain": [
       "<Figure size 842.4x595.44 with 1 Axes>"
      ]
     },
     "metadata": {
      "needs_background": "light"
     },
     "output_type": "display_data"
    }
   ],
   "source": [
    "vis(fun=math.cos, sklejana=s, N=10, m=1, p=p)"
   ]
  },
  {
   "cell_type": "markdown",
   "metadata": {
    "id": "HYoiaGHzEIBy"
   },
   "source": [
    "*Program generujący różne odstępy między kolejnymi węzłami*"
   ]
  },
  {
   "cell_type": "code",
   "execution_count": 10,
   "metadata": {
    "id": "geIcZa-QEHLj"
   },
   "outputs": [],
   "source": [
    "def s_diff(x,n,func,times):\n",
    "  si = 0\n",
    "\n",
    "  t=[0] * (n+1)\n",
    "  y=[0] * (n+1)\n",
    "  z=[0] * (n+1)\n",
    "  \n",
    "  h=[0] * n\n",
    "  b=[0] * n\n",
    "  \n",
    "  u=[0] * (n-1)\n",
    "  v=[0] * (n-1)\n",
    "  \n",
    "  t[0]=times*0\n",
    "  y[0]=func(t[0])\n",
    "  for i in range(1,n+1):\n",
    "    t[i]=times * i + t[i-1]\n",
    "    y[i]=func(t[i])\n",
    "  for i in range(0,n):\n",
    "    h[i]=t[i+1]-t[i]\n",
    "    b[i]=6*(y[i+1]-y[i])/h[i]\n",
    "  \n",
    "  u[0]=2*(h[0]+h[1])\n",
    "  v[0]=b[1]-b[0]\n",
    "  \n",
    "  for i in range(1,n-1):\n",
    "    u[i]=2*(h[i]+h[i+1])-h[i]*h[i]/u[i-1]\n",
    "    v[i]=b[i+1]-b[i]-h[i]*v[i-1]/u[i-1]\n",
    "    \n",
    "  z[n]=0\n",
    "  \n",
    "  for i in range(n-1, 0, -1):\n",
    "    z[i]=(v[i-1]-h[i]*z[i+1])/u[i-1]\n",
    "    \n",
    "  z[0]=0\n",
    "\n",
    "  for i in range(n-1,-1,-1):\n",
    "      if (x-t[i] >= 0):\n",
    "        idx = i\n",
    "        break\n",
    "      else: \n",
    "        idx = n-1\n",
    "\n",
    "  si = z[idx] / (6*h[idx]) * (t[idx+1] - x)**3 + z[idx+1]/(6*h[idx]) * (x-t[idx])**3 + (y[idx+1]/h[idx] - z[idx+1]*h[idx]/6)*(x - t[i]) + (y[idx]/h[idx] - z[idx]*h[idx]/6)*(t[i+1] - x)  \n",
    "  return si"
   ]
  },
  {
   "cell_type": "markdown",
   "metadata": {
    "id": "oyhZWnHvGoTQ"
   },
   "source": [
    "# **TEST** kodu dla funkcji cos(x) o różnej długości węzłów"
   ]
  },
  {
   "cell_type": "code",
   "execution_count": 11,
   "metadata": {
    "colab": {
     "base_uri": "https://localhost:8080/"
    },
    "id": "-_syCrteGIFM",
    "outputId": "ebdd5bab-5746-4caa-9d6e-e3bb2124b6ce"
   },
   "outputs": [
    {
     "name": "stdout",
     "output_type": "stream",
     "text": [
      "0 1.0\n",
      "1 0.5403023058681398\n",
      "2 -0.35612354536393687\n",
      "3 -0.9899924966004454\n",
      "4 -0.6578849045840423\n",
      "5 0.22414400439284954\n",
      "6 0.9601702866503659\n",
      "7 1.0204443453216763\n",
      "8 0.5399139707920853\n",
      "9 -0.1802986997400704\n"
     ]
    }
   ],
   "source": [
    "p=[]\n",
    "for i in range(10):\n",
    "  p.append(i)\n",
    "  print(i,s_diff(x = i, n = 10, func = math.cos, times=1))"
   ]
  },
  {
   "cell_type": "markdown",
   "metadata": {
    "id": "wcNO_Jp4O7QI"
   },
   "source": [
    "Wizualizacja"
   ]
  },
  {
   "cell_type": "code",
   "execution_count": 12,
   "metadata": {
    "colab": {
     "base_uri": "https://localhost:8080/",
     "height": 520
    },
    "id": "RCuRNQOfO5Ym",
    "outputId": "6c48cb42-4f59-43ba-be3b-a0a9fb5d6a13"
   },
   "outputs": [
    {
     "data": {
      "image/png": "[encoded data removed]",
      "text/plain": [
       "<Figure size 842.4x595.44 with 1 Axes>"
      ]
     },
     "metadata": {
      "needs_background": "light"
     },
     "output_type": "display_data"
    }
   ],
   "source": [
    "vis(fun=math.cos, sklejana=s_diff, N=10, m=1, p=p)"
   ]
  }
 ],
 "metadata": {
  "colab": {
   "collapsed_sections": [],
   "name": "MN_Lab4.ipynb",
   "provenance": []
  },
  "kernelspec": {
   "display_name": "Python 3",
   "language": "python",
   "name": "python3"
  },
  "language_info": {
   "codemirror_mode": {
    "name": "ipython",
    "version": 3
   },
   "file_extension": ".py",
   "mimetype": "text/x-python",
   "name": "python",
   "nbconvert_exporter": "python",
   "pygments_lexer": "ipython3",
   "version": "3.8.8"
  }
 },
 "nbformat": 4,
 "nbformat_minor": 1
}
